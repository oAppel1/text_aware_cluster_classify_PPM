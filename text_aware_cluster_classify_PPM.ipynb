{
 "cells": [
  {
   "cell_type": "markdown",
   "id": "ef11e72c",
   "metadata": {},
   "source": [
    "Import Packages"
   ]
  },
  {
   "cell_type": "code",
   "execution_count": 1,
   "id": "2cb5d144",
   "metadata": {},
   "outputs": [],
   "source": [
    "#Import packages\n",
    "\n",
    "from cmath import nan\n",
    "import pandas as pd\n",
    "import numpy as np\n",
    "import matplotlib.pyplot as plt\n",
    "from pyparsing import col # For plotting data\n",
    "import seaborn as sns # For plotting data\n",
    "\n",
    "# Selection of ml algorithms for prediction\n",
    "from sklearn.ensemble import RandomForestRegressor\n",
    "from sklearn.linear_model import Ridge\n",
    "from sklearn.ensemble import GradientBoostingRegressor\n",
    "from sklearn.neural_network import MLPRegressor\n",
    "from sklearn.dummy import DummyRegressor\n",
    "\n",
    "#import packages for text preprocessing\n",
    "from bs4 import BeautifulSoup\n",
    "from sklearn.feature_extraction.text import CountVectorizer\n",
    "from sklearn.feature_extraction.text import TfidfVectorizer\n",
    "import nltk\n",
    "import string\n",
    "import re\n",
    "\n",
    "# For setting up pipeline\n",
    "from sklearn.pipeline import Pipeline \n",
    "\n",
    "# Various pre-processing steps\n",
    "from sklearn.preprocessing import MinMaxScaler\n",
    "from sklearn.compose import ColumnTransformer\n",
    "from sklearn.preprocessing import OneHotEncoder\n",
    "\n",
    "#hyperparametertuning\n",
    "from optuna.integration import OptunaSearchCV\n",
    "from optuna.distributions import *\n",
    "\n",
    "#Feature Selection\n",
    "from sklearn.feature_selection import RFE\n",
    "\n",
    "#Target Transformation\n",
    "from sklearn.compose import TransformedTargetRegressor\n",
    "\n",
    "from sentence_transformers import SentenceTransformer\n",
    "from sklearn.preprocessing import FunctionTransformer\n",
    "\n",
    "#Metrics\n",
    "from sklearn.metrics import mean_absolute_error\n",
    "\n",
    "#Safe Model\n",
    "from joblib import dump, load\n",
    "\n",
    "import os\n",
    "from pathlib import Path"
   ]
  }
 ],
 "metadata": {
  "kernelspec": {
   "display_name": "Python 3 (ipykernel)",
   "language": "python",
   "name": "python3"
  },
  "language_info": {
   "codemirror_mode": {
    "name": "ipython",
    "version": 3
   },
   "file_extension": ".py",
   "mimetype": "text/x-python",
   "name": "python",
   "nbconvert_exporter": "python",
   "pygments_lexer": "ipython3",
   "version": "3.11.7"
  }
 },
 "nbformat": 4,
 "nbformat_minor": 5
}
