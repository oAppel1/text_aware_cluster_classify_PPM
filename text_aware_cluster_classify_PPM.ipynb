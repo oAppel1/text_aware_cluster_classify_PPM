{
 "cells": [
  {
   "cell_type": "markdown",
   "id": "ef11e72c",
   "metadata": {},
   "source": [
    "### Packages importieren"
   ]
  },
  {
   "cell_type": "code",
   "execution_count": 1,
   "id": "b63efc75",
   "metadata": {},
   "outputs": [],
   "source": [
    "#Basic packages\n",
    "import pandas as pd\n",
    "import numpy as np\n",
    "import matplotlib.pyplot as plt\n",
    "#For plotting data\n",
    "from pyparsing import col\n",
    "import seaborn as sns\n",
    "\n",
    "#Slection of ML algoithms for clustering and classification\n",
    "from sklearn.ensemble import RandomForestClassifier\n",
    "from sklearn.tree import DecisionTreeClassifier\n",
    "from sklearn.cluster import DBSCAN \n",
    "from sklearn.mixture import GaussianMixture #Model-Based Classifier with GaussianProcess as base\n",
    "\n",
    "#Import packages for text preprocesssing\n",
    "from bs4 import BeautifulSoup\n",
    "from sklearn.feature_extraction.text import CountVectorizer\n",
    "from sklearn.feature_extraction.text import TfidfTransformer\n",
    "import nltk\n",
    "import string\n",
    "import re\n",
    "\n",
    "#For setting up the pipeline\n",
    "from sklearn.pipeline import Pipeline\n",
    "\n",
    "#Pre-processing steps\n",
    "from sklearn.preprocessing import MinMaxScaler\n",
    "from sklearn.compose import ColumnTransformer\n",
    "from sklearn.preprocessing import OneHotEncoder\n",
    "\n",
    "#Hyperparametertuning\n",
    "from optuna.integration import OptunaSearchCV\n",
    "from optuna.distributions import *\n",
    "\n",
    "#Metrics\n",
    "\n",
    "\n",
    "#Safe Model\n",
    "from joblib import dump, load\n",
    "\n",
    "import os\n",
    "from pathlib import Path"
   ]
  },
  {
   "cell_type": "markdown",
   "id": "1c9160c1",
   "metadata": {},
   "source": [
    "### Anzahl t-Times definieren und Labels identifizieren "
   ]
  },
  {
   "cell_type": "code",
   "execution_count": null,
   "id": "d84f9675",
   "metadata": {},
   "outputs": [],
   "source": [
    "#Essenziell für das erstellen von Dataframes\n",
    "root_dir = os.path.abspath(os.curdir)\n",
    "#root_dir = root_dir.replace(os.sep, \"/\") -> Für MacOS wichtig?\n",
    "root_dir = str(Path(root_dir)) # Wichtig weil unsere Ordnerstuktur anderes ist für diesen Fall\n",
    "print(root_dir)"
   ]
  },
  {
   "cell_type": "code",
   "execution_count": null,
   "id": "dfb81423",
   "metadata": {},
   "outputs": [],
   "source": [
    "#Definieren von t-times. Diese geben an wie viele gats durchlaufen werden müssen ab ein g = 0\n",
    "times = range(0,4) #Muss an die Anzahl der Gates angepasst werden. Range(0,4) definiert ein Prozess mit Start g = 0 und 3 folgenden Gates.\n",
    "\n",
    "#Definieren der Targets für jedes t\n",
    "# Ist der ablauf hier gleich??"
   ]
  }
 ],
 "metadata": {
  "kernelspec": {
   "display_name": "Python 3 (ipykernel)",
   "language": "python",
   "name": "python3"
  },
  "language_info": {
   "codemirror_mode": {
    "name": "ipython",
    "version": 3
   },
   "file_extension": ".py",
   "mimetype": "text/x-python",
   "name": "python",
   "nbconvert_exporter": "python",
   "pygments_lexer": "ipython3",
   "version": "3.12.1"
  }
 },
 "nbformat": 4,
 "nbformat_minor": 5
}
