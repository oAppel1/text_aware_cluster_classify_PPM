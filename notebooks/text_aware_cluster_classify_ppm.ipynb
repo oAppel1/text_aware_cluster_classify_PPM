{
 "cells": [],
 "metadata": {
  "kernelspec": {
   "display_name": "scikit",
   "language": "python",
   "name": "python3"
  },
  "language_info": {
   "codemirror_mode": {
    "name": "ipython",
    "version": 3
   },
   "file_extension": ".py",
   "mimetype": "text/x-python",
   "name": "python",
   "nbconvert_exporter": "python",
   "pygments_lexer": "ipython3",
   "version": "3.9.15"
  },
  "orig_nbformat": 4,
  "vscode": {
   "interpreter": {
    "hash": "4bcda084bfad823754408a7109bf63e95aec8bd82837b5a0078ca8bb13f534a1"
   }
  }
 },
 "nbformat": 4,
 "nbformat_minor": 2
}
