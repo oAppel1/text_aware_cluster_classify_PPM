{
 "cells": [
  {
   "cell_type": "code",
   "execution_count": 2,
   "metadata": {},
   "outputs": [],
   "source": [
    "#Files are provided as event logs\n",
    "from pm4py.objects.log.exporter.xes import exporter as xes_exporter\n",
    "from pm4py.objects.log.importer.xes import importer as xes_importer"
   ]
  },
  {
   "attachments": {},
   "cell_type": "markdown",
   "metadata": {},
   "source": [
    "### Preprocessing"
   ]
  },
  {
   "cell_type": "code",
   "execution_count": 3,
   "metadata": {},
   "outputs": [
    {
     "ename": "FileNotFoundError",
     "evalue": "[Errno 2] No such file or directory: '../../data/01_WM/01_raw/20230411/unique case_names/xes_NONFFF_unique.xml'",
     "output_type": "error",
     "traceback": [
      "\u001b[1;31m---------------------------------------------------------------------------\u001b[0m",
      "\u001b[1;31mFileNotFoundError\u001b[0m                         Traceback (most recent call last)",
      "Cell \u001b[1;32mIn[3], line 5\u001b[0m\n\u001b[0;32m      1\u001b[0m \u001b[38;5;28;01mimport\u001b[39;00m \u001b[38;5;21;01mpm4py\u001b[39;00m\n\u001b[0;32m      3\u001b[0m process_type \u001b[38;5;241m=\u001b[39m \u001b[38;5;124m\"\u001b[39m\u001b[38;5;124mNONFFF\u001b[39m\u001b[38;5;124m\"\u001b[39m\n\u001b[1;32m----> 5\u001b[0m log \u001b[38;5;241m=\u001b[39m \u001b[43mxes_importer\u001b[49m\u001b[38;5;241;43m.\u001b[39;49m\u001b[43mapply\u001b[49m\u001b[43m(\u001b[49m\u001b[38;5;124;43m\"\u001b[39;49m\u001b[38;5;124;43m../../data/01_WM/01_raw/20230411/unique case_names/xes_\u001b[39;49m\u001b[38;5;124;43m\"\u001b[39;49m\u001b[43m \u001b[49m\u001b[38;5;241;43m+\u001b[39;49m\u001b[43m \u001b[49m\u001b[43mprocess_type\u001b[49m\u001b[43m \u001b[49m\u001b[38;5;241;43m+\u001b[39;49m\u001b[43m \u001b[49m\u001b[38;5;124;43m\"\u001b[39;49m\u001b[38;5;124;43m_unique.xml\u001b[39;49m\u001b[38;5;124;43m\"\u001b[39;49m\u001b[43m)\u001b[49m\n",
      "File \u001b[1;32mc:\\Users\\oap01\\AppData\\Local\\Programs\\Python\\Python312\\Lib\\site-packages\\pm4py\\objects\\log\\importer\\xes\\importer.py:86\u001b[0m, in \u001b[0;36mapply\u001b[1;34m(path, parameters, variant)\u001b[0m\n\u001b[0;32m     83\u001b[0m \u001b[38;5;28;01mif\u001b[39;00m \u001b[38;5;28mtype\u001b[39m(variant) \u001b[38;5;129;01mis\u001b[39;00m \u001b[38;5;28mstr\u001b[39m:\n\u001b[0;32m     84\u001b[0m     variant \u001b[38;5;241m=\u001b[39m __get_variant(variant)\n\u001b[1;32m---> 86\u001b[0m log \u001b[38;5;241m=\u001b[39m \u001b[43mvariant\u001b[49m\u001b[38;5;241;43m.\u001b[39;49m\u001b[43mvalue\u001b[49m\u001b[38;5;241;43m.\u001b[39;49m\u001b[43mapply\u001b[49m\u001b[43m(\u001b[49m\u001b[43mpath\u001b[49m\u001b[43m,\u001b[49m\u001b[43m \u001b[49m\u001b[43mparameters\u001b[49m\u001b[38;5;241;43m=\u001b[39;49m\u001b[43mparameters\u001b[49m\u001b[43m)\u001b[49m\n\u001b[0;32m     88\u001b[0m \u001b[38;5;28;01mreturn\u001b[39;00m log\n",
      "File \u001b[1;32mc:\\Users\\oap01\\AppData\\Local\\Programs\\Python\\Python312\\Lib\\site-packages\\pm4py\\objects\\log\\importer\\xes\\variants\\iterparse.py:300\u001b[0m, in \u001b[0;36mapply\u001b[1;34m(filename, parameters)\u001b[0m\n\u001b[0;32m    278\u001b[0m \u001b[38;5;28;01mdef\u001b[39;00m \u001b[38;5;21mapply\u001b[39m(filename, parameters\u001b[38;5;241m=\u001b[39m\u001b[38;5;28;01mNone\u001b[39;00m):\n\u001b[0;32m    279\u001b[0m \u001b[38;5;250m    \u001b[39m\u001b[38;5;124;03m\"\"\"\u001b[39;00m\n\u001b[0;32m    280\u001b[0m \u001b[38;5;124;03m    Imports an XES file into a log object\u001b[39;00m\n\u001b[0;32m    281\u001b[0m \n\u001b[1;32m   (...)\u001b[0m\n\u001b[0;32m    298\u001b[0m \u001b[38;5;124;03m        A log\u001b[39;00m\n\u001b[0;32m    299\u001b[0m \u001b[38;5;124;03m    \"\"\"\u001b[39;00m\n\u001b[1;32m--> 300\u001b[0m     \u001b[38;5;28;01mreturn\u001b[39;00m \u001b[43mimport_log\u001b[49m\u001b[43m(\u001b[49m\u001b[43mfilename\u001b[49m\u001b[43m,\u001b[49m\u001b[43m \u001b[49m\u001b[43mparameters\u001b[49m\u001b[43m)\u001b[49m\n",
      "File \u001b[1;32mc:\\Users\\oap01\\AppData\\Local\\Programs\\Python\\Python312\\Lib\\site-packages\\pm4py\\objects\\log\\importer\\xes\\variants\\iterparse.py:338\u001b[0m, in \u001b[0;36mimport_log\u001b[1;34m(filename, parameters)\u001b[0m\n\u001b[0;32m    336\u001b[0m     f \u001b[38;5;241m=\u001b[39m gzip\u001b[38;5;241m.\u001b[39mopen(filename, \u001b[38;5;124m\"\u001b[39m\u001b[38;5;124mrb\u001b[39m\u001b[38;5;124m\"\u001b[39m)\n\u001b[0;32m    337\u001b[0m \u001b[38;5;28;01melse\u001b[39;00m:\n\u001b[1;32m--> 338\u001b[0m     f \u001b[38;5;241m=\u001b[39m \u001b[38;5;28;43mopen\u001b[39;49m\u001b[43m(\u001b[49m\u001b[43mfilename\u001b[49m\u001b[43m,\u001b[49m\u001b[43m \u001b[49m\u001b[38;5;124;43m\"\u001b[39;49m\u001b[38;5;124;43mrb\u001b[39;49m\u001b[38;5;124;43m\"\u001b[39;49m\u001b[43m)\u001b[49m\n\u001b[0;32m    339\u001b[0m context \u001b[38;5;241m=\u001b[39m etree\u001b[38;5;241m.\u001b[39miterparse(f, events\u001b[38;5;241m=\u001b[39m[_EVENT_START, _EVENT_END], encoding\u001b[38;5;241m=\u001b[39mencoding)\n\u001b[0;32m    340\u001b[0m num_traces \u001b[38;5;241m=\u001b[39m count_traces(context)\n",
      "\u001b[1;31mFileNotFoundError\u001b[0m: [Errno 2] No such file or directory: '../../data/01_WM/01_raw/20230411/unique case_names/xes_NONFFF_unique.xml'"
     ]
    }
   ],
   "source": [
    "import pm4py\n",
    "\n",
    "process_type = \"NONFFF\"\n",
    "\n",
    "log = xes_importer.apply(\"../../data/01_WM/01_raw/20230411/unique case_names/xes_\" + process_type + \"_unique.xml\")"
   ]
  },
  {
   "cell_type": "code",
   "execution_count": 1,
   "metadata": {},
   "outputs": [
    {
     "ename": "NameError",
     "evalue": "name 'log' is not defined",
     "output_type": "error",
     "traceback": [
      "\u001b[1;31m---------------------------------------------------------------------------\u001b[0m",
      "\u001b[1;31mNameError\u001b[0m                                 Traceback (most recent call last)",
      "Cell \u001b[1;32mIn[1], line 3\u001b[0m\n\u001b[0;32m      1\u001b[0m \u001b[38;5;28;01mimport\u001b[39;00m \u001b[38;5;21;01mpreprocessing\u001b[39;00m \u001b[38;5;28;01mas\u001b[39;00m \u001b[38;5;21;01mpp\u001b[39;00m\n\u001b[1;32m----> 3\u001b[0m log \u001b[38;5;241m=\u001b[39m pp\u001b[38;5;241m.\u001b[39mmodify_timestamps(\u001b[43mlog\u001b[49m)\n\u001b[0;32m      4\u001b[0m log \u001b[38;5;241m=\u001b[39m pp\u001b[38;5;241m.\u001b[39mdrop_events(log)\n\u001b[0;32m      5\u001b[0m log \u001b[38;5;241m=\u001b[39m pp\u001b[38;5;241m.\u001b[39madjust_concept_names(log)\n",
      "\u001b[1;31mNameError\u001b[0m: name 'log' is not defined"
     ]
    }
   ],
   "source": [
    "import preprocessing as pp\n",
    "\n",
    "log = pp.modify_timestamps(log)\n",
    "log = pp.drop_events(log)\n",
    "log = pp.adjust_concept_names(log)\n",
    "log = pp.refine_activity_classifier(log)\n",
    "\n",
    "if(process_type == \"FFF\"):\n",
    "    log = pp.assign_gates_FFF(log)\n",
    "elif(process_type == \"EC\"):\n",
    "    log = pp.assign_gates_EC(log)\n",
    "else:\n",
    "    log = pp.assign_gates_NONFFF(log)\n",
    "\n",
    "\n"
   ]
  },
  {
   "cell_type": "code",
   "execution_count": 4,
   "metadata": {},
   "outputs": [],
   "source": [
    "log = pp.remove_incomplete_traces(log, process_type)"
   ]
  },
  {
   "cell_type": "code",
   "execution_count": 6,
   "metadata": {},
   "outputs": [
    {
     "name": "stdout",
     "output_type": "stream",
     "text": [
      "530\n"
     ]
    }
   ],
   "source": [
    "print(len(log))"
   ]
  },
  {
   "cell_type": "code",
   "execution_count": 1,
   "metadata": {},
   "outputs": [
    {
     "ename": "NameError",
     "evalue": "name 'xes_exporter' is not defined",
     "output_type": "error",
     "traceback": [
      "\u001b[1;31m---------------------------------------------------------------------------\u001b[0m",
      "\u001b[1;31mNameError\u001b[0m                                 Traceback (most recent call last)",
      "Cell \u001b[1;32mIn[1], line 1\u001b[0m\n\u001b[1;32m----> 1\u001b[0m \u001b[43mxes_exporter\u001b[49m\u001b[38;5;241m.\u001b[39mapply(log, \u001b[38;5;124m'\u001b[39m\u001b[38;5;124m../../data/01_WM/03_final/Preprocessed_ModificationProcess_EventLog/ProdCompleted\u001b[39m\u001b[38;5;124m'\u001b[39m \u001b[38;5;241m+\u001b[39m process_type \u001b[38;5;241m+\u001b[39m \u001b[38;5;124m'\u001b[39m\u001b[38;5;124m_Preprocessed.xes\u001b[39m\u001b[38;5;124m'\u001b[39m)\n",
      "\u001b[1;31mNameError\u001b[0m: name 'xes_exporter' is not defined"
     ]
    }
   ],
   "source": [
    "xes_exporter.apply(log, '../../data/01_WM/03_final/Preprocessed_ModificationProcess_EventLog/ProdCompleted' + process_type + '_Preprocessed.xes')"
   ]
  },
  {
   "attachments": {},
   "cell_type": "markdown",
   "metadata": {},
   "source": [
    "### Train Test Split"
   ]
  },
  {
   "cell_type": "code",
   "execution_count": null,
   "metadata": {},
   "outputs": [],
   "source": [
    "import split\n",
    "log = xes_importer.apply('../../data/01_WM/03_final/Preprocessed_ModificationProcess_EventLog/ProdCompleted' + process_type + '_Preprocessed.xes')\n",
    "\n",
    "split.time_based_split(log, '../../data/01_WM/03_final/TrainTestSplit', process_type)"
   ]
  },
  {
   "attachments": {},
   "cell_type": "markdown",
   "metadata": {},
   "source": [
    "### Feature Extraction"
   ]
  },
  {
   "cell_type": "code",
   "execution_count": null,
   "metadata": {},
   "outputs": [],
   "source": [
    "import feature_extraction as fe\n",
    "\n",
    "def feature_extraction(log, log_type=\"Train\"):\n",
    "    log = fe.feature_processed_documents(log, process_type)\n",
    "    log = fe.feature_number_of_parts(log, process_type)\n",
    "    log = fe.feature_number_of_initiated_workflows(log, process_type)\n",
    "    log = fe.feature_number_of_different_roles(log, process_type)\n",
    "    log = fe.feature_qma_check_relevance(log)\n",
    "    log = fe.t0_to_be_changed(log)\n",
    "    log = fe.t0_delete_parts_documents(log)\n",
    "    log = fe.t0_start_division(log)\n",
    "    log = fe.number_tailored_criteria(log, process_type)\n",
    "    log = fe.number_completed_tasks(log, process_type)\n",
    "    log = fe.number_added_tasks(log, process_type)\n",
    "    log = fe.international_involved(log, process_type)\n",
    "    log = fe.involved_divisions_encoded(log, process_type)\n",
    "    log = fe.number_divisions(log, process_type)\n",
    "    log = fe.t0_start_month(log)\n",
    "    log = fe.feature_last_three_events_per_case(log, process_type)\n",
    "    log = fe.feature_involved_resources(log, process_type)\n",
    "    log = fe.feature_multiple_roles(log, process_type)\n",
    "    log = fe.calculate_lead_time_per_gate(log, process_type)\n",
    "    log = fe.calculate_total_and_remaining_leadtime(log, process_type)\n",
    "    \n",
    "    fe.extract_and_save(log, '../../data/01_WM/03_final/Feature Extraction', log_type, process_type)\n",
    "\n",
    "log_train = xes_importer.apply('../../data/01_WM/03_final/TrainTestSplit/' + process_type + '_Train.xes')\n",
    "log_test = xes_importer.apply('../../data/01_WM/03_final/TrainTestSplit/' + process_type + '_Test.xes')\n",
    "\n",
    "feature_extraction(log_train, \"Train\")\n",
    "feature_extraction(log_test, \"Test\")"
   ]
  }
 ],
 "metadata": {
  "kernelspec": {
   "display_name": "scikit",
   "language": "python",
   "name": "python3"
  },
  "language_info": {
   "codemirror_mode": {
    "name": "ipython",
    "version": 3
   },
   "file_extension": ".py",
   "mimetype": "text/x-python",
   "name": "python",
   "nbconvert_exporter": "python",
   "pygments_lexer": "ipython3",
   "version": "3.12.1"
  },
  "orig_nbformat": 4,
  "vscode": {
   "interpreter": {
    "hash": "4bcda084bfad823754408a7109bf63e95aec8bd82837b5a0078ca8bb13f534a1"
   }
  }
 },
 "nbformat": 4,
 "nbformat_minor": 2
}
